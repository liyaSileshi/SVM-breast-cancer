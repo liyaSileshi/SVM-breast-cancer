{
 "cells": [
  {
   "cell_type": "markdown",
   "metadata": {},
   "source": [
    "# Breast Cancer dataset 🏥"
   ]
  },
  {
   "cell_type": "markdown",
   "metadata": {},
   "source": [
    "## 1 - Import and explore the dataset. Recall the load_breast_cancer() method will return an object that contains the data in .data, the labels in .target, and the column names in .feature_names attributes."
   ]
  },
  {
   "cell_type": "code",
   "execution_count": 2,
   "metadata": {},
   "outputs": [
    {
     "name": "stdout",
     "output_type": "stream",
     "text": [
      "(569, 30)\n"
     ]
    },
    {
     "data": {
      "text/html": [
       "<div>\n",
       "<style scoped>\n",
       "    .dataframe tbody tr th:only-of-type {\n",
       "        vertical-align: middle;\n",
       "    }\n",
       "\n",
       "    .dataframe tbody tr th {\n",
       "        vertical-align: top;\n",
       "    }\n",
       "\n",
       "    .dataframe thead th {\n",
       "        text-align: right;\n",
       "    }\n",
       "</style>\n",
       "<table border=\"1\" class=\"dataframe\">\n",
       "  <thead>\n",
       "    <tr style=\"text-align: right;\">\n",
       "      <th></th>\n",
       "      <th>mean radius</th>\n",
       "      <th>mean texture</th>\n",
       "      <th>mean perimeter</th>\n",
       "      <th>mean area</th>\n",
       "      <th>mean smoothness</th>\n",
       "      <th>mean compactness</th>\n",
       "      <th>mean concavity</th>\n",
       "      <th>mean concave points</th>\n",
       "      <th>mean symmetry</th>\n",
       "      <th>mean fractal dimension</th>\n",
       "      <th>...</th>\n",
       "      <th>worst texture</th>\n",
       "      <th>worst perimeter</th>\n",
       "      <th>worst area</th>\n",
       "      <th>worst smoothness</th>\n",
       "      <th>worst compactness</th>\n",
       "      <th>worst concavity</th>\n",
       "      <th>worst concave points</th>\n",
       "      <th>worst symmetry</th>\n",
       "      <th>worst fractal dimension</th>\n",
       "      <th>diagnosis</th>\n",
       "    </tr>\n",
       "  </thead>\n",
       "  <tbody>\n",
       "    <tr>\n",
       "      <th>0</th>\n",
       "      <td>17.99</td>\n",
       "      <td>10.38</td>\n",
       "      <td>122.80</td>\n",
       "      <td>1001.0</td>\n",
       "      <td>0.11840</td>\n",
       "      <td>0.27760</td>\n",
       "      <td>0.3001</td>\n",
       "      <td>0.14710</td>\n",
       "      <td>0.2419</td>\n",
       "      <td>0.07871</td>\n",
       "      <td>...</td>\n",
       "      <td>17.33</td>\n",
       "      <td>184.60</td>\n",
       "      <td>2019.0</td>\n",
       "      <td>0.1622</td>\n",
       "      <td>0.6656</td>\n",
       "      <td>0.7119</td>\n",
       "      <td>0.2654</td>\n",
       "      <td>0.4601</td>\n",
       "      <td>0.11890</td>\n",
       "      <td>0</td>\n",
       "    </tr>\n",
       "    <tr>\n",
       "      <th>1</th>\n",
       "      <td>20.57</td>\n",
       "      <td>17.77</td>\n",
       "      <td>132.90</td>\n",
       "      <td>1326.0</td>\n",
       "      <td>0.08474</td>\n",
       "      <td>0.07864</td>\n",
       "      <td>0.0869</td>\n",
       "      <td>0.07017</td>\n",
       "      <td>0.1812</td>\n",
       "      <td>0.05667</td>\n",
       "      <td>...</td>\n",
       "      <td>23.41</td>\n",
       "      <td>158.80</td>\n",
       "      <td>1956.0</td>\n",
       "      <td>0.1238</td>\n",
       "      <td>0.1866</td>\n",
       "      <td>0.2416</td>\n",
       "      <td>0.1860</td>\n",
       "      <td>0.2750</td>\n",
       "      <td>0.08902</td>\n",
       "      <td>0</td>\n",
       "    </tr>\n",
       "    <tr>\n",
       "      <th>2</th>\n",
       "      <td>19.69</td>\n",
       "      <td>21.25</td>\n",
       "      <td>130.00</td>\n",
       "      <td>1203.0</td>\n",
       "      <td>0.10960</td>\n",
       "      <td>0.15990</td>\n",
       "      <td>0.1974</td>\n",
       "      <td>0.12790</td>\n",
       "      <td>0.2069</td>\n",
       "      <td>0.05999</td>\n",
       "      <td>...</td>\n",
       "      <td>25.53</td>\n",
       "      <td>152.50</td>\n",
       "      <td>1709.0</td>\n",
       "      <td>0.1444</td>\n",
       "      <td>0.4245</td>\n",
       "      <td>0.4504</td>\n",
       "      <td>0.2430</td>\n",
       "      <td>0.3613</td>\n",
       "      <td>0.08758</td>\n",
       "      <td>0</td>\n",
       "    </tr>\n",
       "    <tr>\n",
       "      <th>3</th>\n",
       "      <td>11.42</td>\n",
       "      <td>20.38</td>\n",
       "      <td>77.58</td>\n",
       "      <td>386.1</td>\n",
       "      <td>0.14250</td>\n",
       "      <td>0.28390</td>\n",
       "      <td>0.2414</td>\n",
       "      <td>0.10520</td>\n",
       "      <td>0.2597</td>\n",
       "      <td>0.09744</td>\n",
       "      <td>...</td>\n",
       "      <td>26.50</td>\n",
       "      <td>98.87</td>\n",
       "      <td>567.7</td>\n",
       "      <td>0.2098</td>\n",
       "      <td>0.8663</td>\n",
       "      <td>0.6869</td>\n",
       "      <td>0.2575</td>\n",
       "      <td>0.6638</td>\n",
       "      <td>0.17300</td>\n",
       "      <td>0</td>\n",
       "    </tr>\n",
       "    <tr>\n",
       "      <th>4</th>\n",
       "      <td>20.29</td>\n",
       "      <td>14.34</td>\n",
       "      <td>135.10</td>\n",
       "      <td>1297.0</td>\n",
       "      <td>0.10030</td>\n",
       "      <td>0.13280</td>\n",
       "      <td>0.1980</td>\n",
       "      <td>0.10430</td>\n",
       "      <td>0.1809</td>\n",
       "      <td>0.05883</td>\n",
       "      <td>...</td>\n",
       "      <td>16.67</td>\n",
       "      <td>152.20</td>\n",
       "      <td>1575.0</td>\n",
       "      <td>0.1374</td>\n",
       "      <td>0.2050</td>\n",
       "      <td>0.4000</td>\n",
       "      <td>0.1625</td>\n",
       "      <td>0.2364</td>\n",
       "      <td>0.07678</td>\n",
       "      <td>0</td>\n",
       "    </tr>\n",
       "  </tbody>\n",
       "</table>\n",
       "<p>5 rows × 31 columns</p>\n",
       "</div>"
      ],
      "text/plain": [
       "   mean radius  mean texture  mean perimeter  mean area  mean smoothness  \\\n",
       "0        17.99         10.38          122.80     1001.0          0.11840   \n",
       "1        20.57         17.77          132.90     1326.0          0.08474   \n",
       "2        19.69         21.25          130.00     1203.0          0.10960   \n",
       "3        11.42         20.38           77.58      386.1          0.14250   \n",
       "4        20.29         14.34          135.10     1297.0          0.10030   \n",
       "\n",
       "   mean compactness  mean concavity  mean concave points  mean symmetry  \\\n",
       "0           0.27760          0.3001              0.14710         0.2419   \n",
       "1           0.07864          0.0869              0.07017         0.1812   \n",
       "2           0.15990          0.1974              0.12790         0.2069   \n",
       "3           0.28390          0.2414              0.10520         0.2597   \n",
       "4           0.13280          0.1980              0.10430         0.1809   \n",
       "\n",
       "   mean fractal dimension  ...  worst texture  worst perimeter  worst area  \\\n",
       "0                 0.07871  ...          17.33           184.60      2019.0   \n",
       "1                 0.05667  ...          23.41           158.80      1956.0   \n",
       "2                 0.05999  ...          25.53           152.50      1709.0   \n",
       "3                 0.09744  ...          26.50            98.87       567.7   \n",
       "4                 0.05883  ...          16.67           152.20      1575.0   \n",
       "\n",
       "   worst smoothness  worst compactness  worst concavity  worst concave points  \\\n",
       "0            0.1622             0.6656           0.7119                0.2654   \n",
       "1            0.1238             0.1866           0.2416                0.1860   \n",
       "2            0.1444             0.4245           0.4504                0.2430   \n",
       "3            0.2098             0.8663           0.6869                0.2575   \n",
       "4            0.1374             0.2050           0.4000                0.1625   \n",
       "\n",
       "   worst symmetry  worst fractal dimension  diagnosis  \n",
       "0          0.4601                  0.11890          0  \n",
       "1          0.2750                  0.08902          0  \n",
       "2          0.3613                  0.08758          0  \n",
       "3          0.6638                  0.17300          0  \n",
       "4          0.2364                  0.07678          0  \n",
       "\n",
       "[5 rows x 31 columns]"
      ]
     },
     "execution_count": 2,
     "metadata": {},
     "output_type": "execute_result"
    }
   ],
   "source": [
    "#import dataset and pandas\n",
    "from sklearn.datasets import load_breast_cancer\n",
    "import pandas as pd\n",
    "\n",
    "cancer = load_breast_cancer()\n",
    "\n",
    "print(cancer.data.shape)\n",
    "\n",
    "#change to dataframe\n",
    "df = pd.DataFrame(cancer.data)\n",
    "df.columns = cancer.feature_names\n",
    "\n",
    "#add target to the df column\n",
    "df[\"diagnosis\"] = cancer.target\n",
    "df.head()"
   ]
  },
  {
   "cell_type": "code",
   "execution_count": 3,
   "metadata": {},
   "outputs": [
    {
     "data": {
      "text/plain": [
       "(569, 31)"
      ]
     },
     "execution_count": 3,
     "metadata": {},
     "output_type": "execute_result"
    }
   ],
   "source": [
    "df.shape"
   ]
  },
  {
   "cell_type": "code",
   "execution_count": 4,
   "metadata": {},
   "outputs": [
    {
     "name": "stdout",
     "output_type": "stream",
     "text": [
      "<class 'pandas.core.frame.DataFrame'>\n",
      "RangeIndex: 569 entries, 0 to 568\n",
      "Data columns (total 31 columns):\n",
      " #   Column                   Non-Null Count  Dtype  \n",
      "---  ------                   --------------  -----  \n",
      " 0   mean radius              569 non-null    float64\n",
      " 1   mean texture             569 non-null    float64\n",
      " 2   mean perimeter           569 non-null    float64\n",
      " 3   mean area                569 non-null    float64\n",
      " 4   mean smoothness          569 non-null    float64\n",
      " 5   mean compactness         569 non-null    float64\n",
      " 6   mean concavity           569 non-null    float64\n",
      " 7   mean concave points      569 non-null    float64\n",
      " 8   mean symmetry            569 non-null    float64\n",
      " 9   mean fractal dimension   569 non-null    float64\n",
      " 10  radius error             569 non-null    float64\n",
      " 11  texture error            569 non-null    float64\n",
      " 12  perimeter error          569 non-null    float64\n",
      " 13  area error               569 non-null    float64\n",
      " 14  smoothness error         569 non-null    float64\n",
      " 15  compactness error        569 non-null    float64\n",
      " 16  concavity error          569 non-null    float64\n",
      " 17  concave points error     569 non-null    float64\n",
      " 18  symmetry error           569 non-null    float64\n",
      " 19  fractal dimension error  569 non-null    float64\n",
      " 20  worst radius             569 non-null    float64\n",
      " 21  worst texture            569 non-null    float64\n",
      " 22  worst perimeter          569 non-null    float64\n",
      " 23  worst area               569 non-null    float64\n",
      " 24  worst smoothness         569 non-null    float64\n",
      " 25  worst compactness        569 non-null    float64\n",
      " 26  worst concavity          569 non-null    float64\n",
      " 27  worst concave points     569 non-null    float64\n",
      " 28  worst symmetry           569 non-null    float64\n",
      " 29  worst fractal dimension  569 non-null    float64\n",
      " 30  diagnosis                569 non-null    int64  \n",
      "dtypes: float64(30), int64(1)\n",
      "memory usage: 137.9 KB\n"
     ]
    }
   ],
   "source": [
    "df.info()"
   ]
  },
  {
   "cell_type": "code",
   "execution_count": 5,
   "metadata": {},
   "outputs": [
    {
     "data": {
      "text/html": [
       "<div>\n",
       "<style scoped>\n",
       "    .dataframe tbody tr th:only-of-type {\n",
       "        vertical-align: middle;\n",
       "    }\n",
       "\n",
       "    .dataframe tbody tr th {\n",
       "        vertical-align: top;\n",
       "    }\n",
       "\n",
       "    .dataframe thead th {\n",
       "        text-align: right;\n",
       "    }\n",
       "</style>\n",
       "<table border=\"1\" class=\"dataframe\">\n",
       "  <thead>\n",
       "    <tr style=\"text-align: right;\">\n",
       "      <th></th>\n",
       "      <th>mean radius</th>\n",
       "      <th>mean texture</th>\n",
       "      <th>mean perimeter</th>\n",
       "      <th>mean area</th>\n",
       "      <th>mean smoothness</th>\n",
       "      <th>mean compactness</th>\n",
       "      <th>mean concavity</th>\n",
       "      <th>mean concave points</th>\n",
       "      <th>mean symmetry</th>\n",
       "      <th>mean fractal dimension</th>\n",
       "      <th>...</th>\n",
       "      <th>worst texture</th>\n",
       "      <th>worst perimeter</th>\n",
       "      <th>worst area</th>\n",
       "      <th>worst smoothness</th>\n",
       "      <th>worst compactness</th>\n",
       "      <th>worst concavity</th>\n",
       "      <th>worst concave points</th>\n",
       "      <th>worst symmetry</th>\n",
       "      <th>worst fractal dimension</th>\n",
       "      <th>diagnosis</th>\n",
       "    </tr>\n",
       "  </thead>\n",
       "  <tbody>\n",
       "    <tr>\n",
       "      <th>count</th>\n",
       "      <td>569.000000</td>\n",
       "      <td>569.000000</td>\n",
       "      <td>569.000000</td>\n",
       "      <td>569.000000</td>\n",
       "      <td>569.000000</td>\n",
       "      <td>569.000000</td>\n",
       "      <td>569.000000</td>\n",
       "      <td>569.000000</td>\n",
       "      <td>569.000000</td>\n",
       "      <td>569.000000</td>\n",
       "      <td>...</td>\n",
       "      <td>569.000000</td>\n",
       "      <td>569.000000</td>\n",
       "      <td>569.000000</td>\n",
       "      <td>569.000000</td>\n",
       "      <td>569.000000</td>\n",
       "      <td>569.000000</td>\n",
       "      <td>569.000000</td>\n",
       "      <td>569.000000</td>\n",
       "      <td>569.000000</td>\n",
       "      <td>569.000000</td>\n",
       "    </tr>\n",
       "    <tr>\n",
       "      <th>mean</th>\n",
       "      <td>14.127292</td>\n",
       "      <td>19.289649</td>\n",
       "      <td>91.969033</td>\n",
       "      <td>654.889104</td>\n",
       "      <td>0.096360</td>\n",
       "      <td>0.104341</td>\n",
       "      <td>0.088799</td>\n",
       "      <td>0.048919</td>\n",
       "      <td>0.181162</td>\n",
       "      <td>0.062798</td>\n",
       "      <td>...</td>\n",
       "      <td>25.677223</td>\n",
       "      <td>107.261213</td>\n",
       "      <td>880.583128</td>\n",
       "      <td>0.132369</td>\n",
       "      <td>0.254265</td>\n",
       "      <td>0.272188</td>\n",
       "      <td>0.114606</td>\n",
       "      <td>0.290076</td>\n",
       "      <td>0.083946</td>\n",
       "      <td>0.627417</td>\n",
       "    </tr>\n",
       "    <tr>\n",
       "      <th>std</th>\n",
       "      <td>3.524049</td>\n",
       "      <td>4.301036</td>\n",
       "      <td>24.298981</td>\n",
       "      <td>351.914129</td>\n",
       "      <td>0.014064</td>\n",
       "      <td>0.052813</td>\n",
       "      <td>0.079720</td>\n",
       "      <td>0.038803</td>\n",
       "      <td>0.027414</td>\n",
       "      <td>0.007060</td>\n",
       "      <td>...</td>\n",
       "      <td>6.146258</td>\n",
       "      <td>33.602542</td>\n",
       "      <td>569.356993</td>\n",
       "      <td>0.022832</td>\n",
       "      <td>0.157336</td>\n",
       "      <td>0.208624</td>\n",
       "      <td>0.065732</td>\n",
       "      <td>0.061867</td>\n",
       "      <td>0.018061</td>\n",
       "      <td>0.483918</td>\n",
       "    </tr>\n",
       "    <tr>\n",
       "      <th>min</th>\n",
       "      <td>6.981000</td>\n",
       "      <td>9.710000</td>\n",
       "      <td>43.790000</td>\n",
       "      <td>143.500000</td>\n",
       "      <td>0.052630</td>\n",
       "      <td>0.019380</td>\n",
       "      <td>0.000000</td>\n",
       "      <td>0.000000</td>\n",
       "      <td>0.106000</td>\n",
       "      <td>0.049960</td>\n",
       "      <td>...</td>\n",
       "      <td>12.020000</td>\n",
       "      <td>50.410000</td>\n",
       "      <td>185.200000</td>\n",
       "      <td>0.071170</td>\n",
       "      <td>0.027290</td>\n",
       "      <td>0.000000</td>\n",
       "      <td>0.000000</td>\n",
       "      <td>0.156500</td>\n",
       "      <td>0.055040</td>\n",
       "      <td>0.000000</td>\n",
       "    </tr>\n",
       "    <tr>\n",
       "      <th>25%</th>\n",
       "      <td>11.700000</td>\n",
       "      <td>16.170000</td>\n",
       "      <td>75.170000</td>\n",
       "      <td>420.300000</td>\n",
       "      <td>0.086370</td>\n",
       "      <td>0.064920</td>\n",
       "      <td>0.029560</td>\n",
       "      <td>0.020310</td>\n",
       "      <td>0.161900</td>\n",
       "      <td>0.057700</td>\n",
       "      <td>...</td>\n",
       "      <td>21.080000</td>\n",
       "      <td>84.110000</td>\n",
       "      <td>515.300000</td>\n",
       "      <td>0.116600</td>\n",
       "      <td>0.147200</td>\n",
       "      <td>0.114500</td>\n",
       "      <td>0.064930</td>\n",
       "      <td>0.250400</td>\n",
       "      <td>0.071460</td>\n",
       "      <td>0.000000</td>\n",
       "    </tr>\n",
       "    <tr>\n",
       "      <th>50%</th>\n",
       "      <td>13.370000</td>\n",
       "      <td>18.840000</td>\n",
       "      <td>86.240000</td>\n",
       "      <td>551.100000</td>\n",
       "      <td>0.095870</td>\n",
       "      <td>0.092630</td>\n",
       "      <td>0.061540</td>\n",
       "      <td>0.033500</td>\n",
       "      <td>0.179200</td>\n",
       "      <td>0.061540</td>\n",
       "      <td>...</td>\n",
       "      <td>25.410000</td>\n",
       "      <td>97.660000</td>\n",
       "      <td>686.500000</td>\n",
       "      <td>0.131300</td>\n",
       "      <td>0.211900</td>\n",
       "      <td>0.226700</td>\n",
       "      <td>0.099930</td>\n",
       "      <td>0.282200</td>\n",
       "      <td>0.080040</td>\n",
       "      <td>1.000000</td>\n",
       "    </tr>\n",
       "    <tr>\n",
       "      <th>75%</th>\n",
       "      <td>15.780000</td>\n",
       "      <td>21.800000</td>\n",
       "      <td>104.100000</td>\n",
       "      <td>782.700000</td>\n",
       "      <td>0.105300</td>\n",
       "      <td>0.130400</td>\n",
       "      <td>0.130700</td>\n",
       "      <td>0.074000</td>\n",
       "      <td>0.195700</td>\n",
       "      <td>0.066120</td>\n",
       "      <td>...</td>\n",
       "      <td>29.720000</td>\n",
       "      <td>125.400000</td>\n",
       "      <td>1084.000000</td>\n",
       "      <td>0.146000</td>\n",
       "      <td>0.339100</td>\n",
       "      <td>0.382900</td>\n",
       "      <td>0.161400</td>\n",
       "      <td>0.317900</td>\n",
       "      <td>0.092080</td>\n",
       "      <td>1.000000</td>\n",
       "    </tr>\n",
       "    <tr>\n",
       "      <th>max</th>\n",
       "      <td>28.110000</td>\n",
       "      <td>39.280000</td>\n",
       "      <td>188.500000</td>\n",
       "      <td>2501.000000</td>\n",
       "      <td>0.163400</td>\n",
       "      <td>0.345400</td>\n",
       "      <td>0.426800</td>\n",
       "      <td>0.201200</td>\n",
       "      <td>0.304000</td>\n",
       "      <td>0.097440</td>\n",
       "      <td>...</td>\n",
       "      <td>49.540000</td>\n",
       "      <td>251.200000</td>\n",
       "      <td>4254.000000</td>\n",
       "      <td>0.222600</td>\n",
       "      <td>1.058000</td>\n",
       "      <td>1.252000</td>\n",
       "      <td>0.291000</td>\n",
       "      <td>0.663800</td>\n",
       "      <td>0.207500</td>\n",
       "      <td>1.000000</td>\n",
       "    </tr>\n",
       "  </tbody>\n",
       "</table>\n",
       "<p>8 rows × 31 columns</p>\n",
       "</div>"
      ],
      "text/plain": [
       "       mean radius  mean texture  mean perimeter    mean area  \\\n",
       "count   569.000000    569.000000      569.000000   569.000000   \n",
       "mean     14.127292     19.289649       91.969033   654.889104   \n",
       "std       3.524049      4.301036       24.298981   351.914129   \n",
       "min       6.981000      9.710000       43.790000   143.500000   \n",
       "25%      11.700000     16.170000       75.170000   420.300000   \n",
       "50%      13.370000     18.840000       86.240000   551.100000   \n",
       "75%      15.780000     21.800000      104.100000   782.700000   \n",
       "max      28.110000     39.280000      188.500000  2501.000000   \n",
       "\n",
       "       mean smoothness  mean compactness  mean concavity  mean concave points  \\\n",
       "count       569.000000        569.000000      569.000000           569.000000   \n",
       "mean          0.096360          0.104341        0.088799             0.048919   \n",
       "std           0.014064          0.052813        0.079720             0.038803   \n",
       "min           0.052630          0.019380        0.000000             0.000000   \n",
       "25%           0.086370          0.064920        0.029560             0.020310   \n",
       "50%           0.095870          0.092630        0.061540             0.033500   \n",
       "75%           0.105300          0.130400        0.130700             0.074000   \n",
       "max           0.163400          0.345400        0.426800             0.201200   \n",
       "\n",
       "       mean symmetry  mean fractal dimension  ...  worst texture  \\\n",
       "count     569.000000              569.000000  ...     569.000000   \n",
       "mean        0.181162                0.062798  ...      25.677223   \n",
       "std         0.027414                0.007060  ...       6.146258   \n",
       "min         0.106000                0.049960  ...      12.020000   \n",
       "25%         0.161900                0.057700  ...      21.080000   \n",
       "50%         0.179200                0.061540  ...      25.410000   \n",
       "75%         0.195700                0.066120  ...      29.720000   \n",
       "max         0.304000                0.097440  ...      49.540000   \n",
       "\n",
       "       worst perimeter   worst area  worst smoothness  worst compactness  \\\n",
       "count       569.000000   569.000000        569.000000         569.000000   \n",
       "mean        107.261213   880.583128          0.132369           0.254265   \n",
       "std          33.602542   569.356993          0.022832           0.157336   \n",
       "min          50.410000   185.200000          0.071170           0.027290   \n",
       "25%          84.110000   515.300000          0.116600           0.147200   \n",
       "50%          97.660000   686.500000          0.131300           0.211900   \n",
       "75%         125.400000  1084.000000          0.146000           0.339100   \n",
       "max         251.200000  4254.000000          0.222600           1.058000   \n",
       "\n",
       "       worst concavity  worst concave points  worst symmetry  \\\n",
       "count       569.000000            569.000000      569.000000   \n",
       "mean          0.272188              0.114606        0.290076   \n",
       "std           0.208624              0.065732        0.061867   \n",
       "min           0.000000              0.000000        0.156500   \n",
       "25%           0.114500              0.064930        0.250400   \n",
       "50%           0.226700              0.099930        0.282200   \n",
       "75%           0.382900              0.161400        0.317900   \n",
       "max           1.252000              0.291000        0.663800   \n",
       "\n",
       "       worst fractal dimension   diagnosis  \n",
       "count               569.000000  569.000000  \n",
       "mean                  0.083946    0.627417  \n",
       "std                   0.018061    0.483918  \n",
       "min                   0.055040    0.000000  \n",
       "25%                   0.071460    0.000000  \n",
       "50%                   0.080040    1.000000  \n",
       "75%                   0.092080    1.000000  \n",
       "max                   0.207500    1.000000  \n",
       "\n",
       "[8 rows x 31 columns]"
      ]
     },
     "execution_count": 5,
     "metadata": {},
     "output_type": "execute_result"
    }
   ],
   "source": [
    "df.describe()"
   ]
  },
  {
   "cell_type": "code",
   "execution_count": 6,
   "metadata": {},
   "outputs": [
    {
     "name": "stdout",
     "output_type": "stream",
     "text": [
      ".. _breast_cancer_dataset:\n",
      "\n",
      "Breast cancer wisconsin (diagnostic) dataset\n",
      "--------------------------------------------\n",
      "\n",
      "**Data Set Characteristics:**\n",
      "\n",
      "    :Number of Instances: 569\n",
      "\n",
      "    :Number of Attributes: 30 numeric, predictive attributes and the class\n",
      "\n",
      "    :Attribute Information:\n",
      "        - radius (mean of distances from center to points on the perimeter)\n",
      "        - texture (standard deviation of gray-scale values)\n",
      "        - perimeter\n",
      "        - area\n",
      "        - smoothness (local variation in radius lengths)\n",
      "        - compactness (perimeter^2 / area - 1.0)\n",
      "        - concavity (severity of concave portions of the contour)\n",
      "        - concave points (number of concave portions of the contour)\n",
      "        - symmetry \n",
      "        - fractal dimension (\"coastline approximation\" - 1)\n",
      "\n",
      "        The mean, standard error, and \"worst\" or largest (mean of the three\n",
      "        largest values) of these features were computed for each image,\n",
      "        resulting in 30 features.  For instance, field 3 is Mean Radius, field\n",
      "        13 is Radius SE, field 23 is Worst Radius.\n",
      "\n",
      "        - class:\n",
      "                - WDBC-Malignant\n",
      "                - WDBC-Benign\n",
      "\n",
      "    :Summary Statistics:\n",
      "\n",
      "    ===================================== ====== ======\n",
      "                                           Min    Max\n",
      "    ===================================== ====== ======\n",
      "    radius (mean):                        6.981  28.11\n",
      "    texture (mean):                       9.71   39.28\n",
      "    perimeter (mean):                     43.79  188.5\n",
      "    area (mean):                          143.5  2501.0\n",
      "    smoothness (mean):                    0.053  0.163\n",
      "    compactness (mean):                   0.019  0.345\n",
      "    concavity (mean):                     0.0    0.427\n",
      "    concave points (mean):                0.0    0.201\n",
      "    symmetry (mean):                      0.106  0.304\n",
      "    fractal dimension (mean):             0.05   0.097\n",
      "    radius (standard error):              0.112  2.873\n",
      "    texture (standard error):             0.36   4.885\n",
      "    perimeter (standard error):           0.757  21.98\n",
      "    area (standard error):                6.802  542.2\n",
      "    smoothness (standard error):          0.002  0.031\n",
      "    compactness (standard error):         0.002  0.135\n",
      "    concavity (standard error):           0.0    0.396\n",
      "    concave points (standard error):      0.0    0.053\n",
      "    symmetry (standard error):            0.008  0.079\n",
      "    fractal dimension (standard error):   0.001  0.03\n",
      "    radius (worst):                       7.93   36.04\n",
      "    texture (worst):                      12.02  49.54\n",
      "    perimeter (worst):                    50.41  251.2\n",
      "    area (worst):                         185.2  4254.0\n",
      "    smoothness (worst):                   0.071  0.223\n",
      "    compactness (worst):                  0.027  1.058\n",
      "    concavity (worst):                    0.0    1.252\n",
      "    concave points (worst):               0.0    0.291\n",
      "    symmetry (worst):                     0.156  0.664\n",
      "    fractal dimension (worst):            0.055  0.208\n",
      "    ===================================== ====== ======\n",
      "\n",
      "    :Missing Attribute Values: None\n",
      "\n",
      "    :Class Distribution: 212 - Malignant, 357 - Benign\n",
      "\n",
      "    :Creator:  Dr. William H. Wolberg, W. Nick Street, Olvi L. Mangasarian\n",
      "\n",
      "    :Donor: Nick Street\n",
      "\n",
      "    :Date: November, 1995\n",
      "\n",
      "This is a copy of UCI ML Breast Cancer Wisconsin (Diagnostic) datasets.\n",
      "https://goo.gl/U2Uwz2\n",
      "\n",
      "Features are computed from a digitized image of a fine needle\n",
      "aspirate (FNA) of a breast mass.  They describe\n",
      "characteristics of the cell nuclei present in the image.\n",
      "\n",
      "Separating plane described above was obtained using\n",
      "Multisurface Method-Tree (MSM-T) [K. P. Bennett, \"Decision Tree\n",
      "Construction Via Linear Programming.\" Proceedings of the 4th\n",
      "Midwest Artificial Intelligence and Cognitive Science Society,\n",
      "pp. 97-101, 1992], a classification method which uses linear\n",
      "programming to construct a decision tree.  Relevant features\n",
      "were selected using an exhaustive search in the space of 1-4\n",
      "features and 1-3 separating planes.\n",
      "\n",
      "The actual linear program used to obtain the separating plane\n",
      "in the 3-dimensional space is that described in:\n",
      "[K. P. Bennett and O. L. Mangasarian: \"Robust Linear\n",
      "Programming Discrimination of Two Linearly Inseparable Sets\",\n",
      "Optimization Methods and Software 1, 1992, 23-34].\n",
      "\n",
      "This database is also available through the UW CS ftp server:\n",
      "\n",
      "ftp ftp.cs.wisc.edu\n",
      "cd math-prog/cpo-dataset/machine-learn/WDBC/\n",
      "\n",
      ".. topic:: References\n",
      "\n",
      "   - W.N. Street, W.H. Wolberg and O.L. Mangasarian. Nuclear feature extraction \n",
      "     for breast tumor diagnosis. IS&T/SPIE 1993 International Symposium on \n",
      "     Electronic Imaging: Science and Technology, volume 1905, pages 861-870,\n",
      "     San Jose, CA, 1993.\n",
      "   - O.L. Mangasarian, W.N. Street and W.H. Wolberg. Breast cancer diagnosis and \n",
      "     prognosis via linear programming. Operations Research, 43(4), pages 570-577, \n",
      "     July-August 1995.\n",
      "   - W.H. Wolberg, W.N. Street, and O.L. Mangasarian. Machine learning techniques\n",
      "     to diagnose breast cancer from fine-needle aspirates. Cancer Letters 77 (1994) \n",
      "     163-171.\n"
     ]
    }
   ],
   "source": [
    "print(cancer.DESCR)"
   ]
  },
  {
   "cell_type": "markdown",
   "metadata": {},
   "source": [
    "## 2- Build a Correlation Heatmap using Seaborn to check for each feature's correlation with the labels."
   ]
  },
  {
   "cell_type": "code",
   "execution_count": 12,
   "metadata": {},
   "outputs": [],
   "source": [
    "#import data viz libraries\n",
    "import seaborn as sns\n",
    "import matplotlib.pyplot as plt"
   ]
  },
  {
   "cell_type": "code",
   "execution_count": 13,
   "metadata": {},
   "outputs": [
    {
     "data": {
      "text/plain": [
       "<matplotlib.axes._subplots.AxesSubplot at 0x12d6ea5d0>"
      ]
     },
     "execution_count": 13,
     "metadata": {},
     "output_type": "execute_result"
    },
    {
     "data": {
      "image/png": "[encoded data removed]",
      "text/plain": [
       "<Figure size 720x720 with 2 Axes>"
      ]
     },
     "metadata": {
      "needs_background": "light"
     },
     "output_type": "display_data"
    }
   ],
   "source": [
    "#calculate the correlation matrix\n",
    "df_feature = pd.DataFrame(cancer.data)\n",
    "df_feature.columns = cancer.feature_names #assign feature names\n",
    "corr = df_feature.corr() #calculate the correlation matrix\n",
    "\n",
    "\n",
    "# plot the heatmap\n",
    "fig, ax = plt.subplots(figsize=(10,10)) #adjust figure size\n",
    "sns.heatmap(corr,\n",
    "    xticklabels=corr.columns,\n",
    "    yticklabels=corr.columns,\n",
    "    ax=ax\n",
    ")"
   ]
  },
  {
   "cell_type": "markdown",
   "metadata": {},
   "source": [
    "## 3- Build a second Correlation Heatmap using Seaborn to check for mutlicollinearity between features."
   ]
  },
  {
   "cell_type": "code",
   "execution_count": 14,
   "metadata": {},
   "outputs": [],
   "source": [
    "#calculate the correlation matrix\n",
    "corr = df.corr()"
   ]
  },
  {
   "cell_type": "code",
   "execution_count": 15,
   "metadata": {},
   "outputs": [
    {
     "data": {
      "text/plain": [
       "<matplotlib.axes._subplots.AxesSubplot at 0x12d9fa650>"
      ]
     },
     "execution_count": 15,
     "metadata": {},
     "output_type": "execute_result"
    },
    {
     "data": {
      "image/png": "[encoded data removed]",
      "text/plain": [
       "<Figure size 720x720 with 2 Axes>"
      ]
     },
     "metadata": {
      "needs_background": "light"
     },
     "output_type": "display_data"
    }
   ],
   "source": [
    "# plot the heatmap\n",
    "fig, ax = plt.subplots(figsize=(10,10)) #adjust figure size\n",
    "sns.heatmap(corr,\n",
    "    xticklabels=corr.columns,\n",
    "    yticklabels=corr.columns,\n",
    "    ax=ax\n",
    ")"
   ]
  },
  {
   "cell_type": "markdown",
   "metadata": {},
   "source": [
    "## 4- Scale and transform the data using a StandardScaler() object and any appropriate methods it contains."
   ]
  },
  {
   "cell_type": "code",
   "execution_count": 16,
   "metadata": {},
   "outputs": [],
   "source": [
    "#importing sklearn libraries\n",
    "from sklearn.model_selection import train_test_split\n",
    "from sklearn.preprocessing import StandardScaler"
   ]
  },
  {
   "cell_type": "code",
   "execution_count": 17,
   "metadata": {},
   "outputs": [
    {
     "data": {
      "text/plain": [
       "['mean radius',\n",
       " 'mean texture',\n",
       " 'mean perimeter',\n",
       " 'mean area',\n",
       " 'mean smoothness',\n",
       " 'mean compactness',\n",
       " 'mean concavity',\n",
       " 'mean concave points',\n",
       " 'mean symmetry',\n",
       " 'mean fractal dimension',\n",
       " 'radius error',\n",
       " 'texture error',\n",
       " 'perimeter error',\n",
       " 'area error',\n",
       " 'smoothness error',\n",
       " 'compactness error',\n",
       " 'concavity error',\n",
       " 'concave points error',\n",
       " 'symmetry error',\n",
       " 'fractal dimension error',\n",
       " 'worst radius',\n",
       " 'worst texture',\n",
       " 'worst perimeter',\n",
       " 'worst area',\n",
       " 'worst smoothness',\n",
       " 'worst compactness',\n",
       " 'worst concavity',\n",
       " 'worst concave points',\n",
       " 'worst symmetry',\n",
       " 'worst fractal dimension']"
      ]
     },
     "execution_count": 17,
     "metadata": {},
     "output_type": "execute_result"
    }
   ],
   "source": [
    "#Grab the feature columns\n",
    "feature_cols = cancer.feature_names\n",
    "#convert np array to list\n",
    "feature_cols = feature_cols.tolist()\n",
    "feature_cols"
   ]
  },
  {
   "cell_type": "code",
   "execution_count": 19,
   "metadata": {},
   "outputs": [
    {
     "data": {
      "text/plain": [
       "array([[ 1.09706398, -2.07333501,  1.26993369, ...,  2.29607613,\n",
       "         2.75062224,  1.93701461],\n",
       "       [ 1.82982061, -0.35363241,  1.68595471, ...,  1.0870843 ,\n",
       "        -0.24388967,  0.28118999],\n",
       "       [ 1.57988811,  0.45618695,  1.56650313, ...,  1.95500035,\n",
       "         1.152255  ,  0.20139121],\n",
       "       ...,\n",
       "       [ 0.70228425,  2.0455738 ,  0.67267578, ...,  0.41406869,\n",
       "        -1.10454895, -0.31840916],\n",
       "       [ 1.83834103,  2.33645719,  1.98252415, ...,  2.28998549,\n",
       "         1.91908301,  2.21963528],\n",
       "       [-1.80840125,  1.22179204, -1.81438851, ..., -1.74506282,\n",
       "        -0.04813821, -0.75120669]])"
      ]
     },
     "execution_count": 19,
     "metadata": {},
     "output_type": "execute_result"
    }
   ],
   "source": [
    "std = StandardScaler()\n",
    "df_std = std.fit_transform(df[feature_cols])\n",
    "df_std"
   ]
  },
  {
   "cell_type": "markdown",
   "metadata": {},
   "source": [
    "## 5- Split the newly scaled data into training and testing sets using train_test_split()."
   ]
  },
  {
   "cell_type": "code",
   "execution_count": 20,
   "metadata": {},
   "outputs": [],
   "source": [
    "# find x and y\n",
    "x = df_std\n",
    "y = df['diagnosis'].to_numpy() #the one we want to predict\n",
    "x_train, x_test, y_train, y_test = train_test_split(x, y, test_size = 0.25, random_state = 0)\n"
   ]
  },
  {
   "cell_type": "markdown",
   "metadata": {},
   "source": [
    "## 6- Create an SVC() object, which can be found in sklearn.svm"
   ]
  },
  {
   "cell_type": "code",
   "execution_count": 25,
   "metadata": {},
   "outputs": [],
   "source": [
    "from sklearn.svm import SVC"
   ]
  },
  {
   "cell_type": "code",
   "execution_count": 26,
   "metadata": {},
   "outputs": [],
   "source": [
    "svm = SVC(kernel='linear', C=10)"
   ]
  },
  {
   "cell_type": "markdown",
   "metadata": {},
   "source": [
    "## 7- Fit the model to the scaled data."
   ]
  },
  {
   "cell_type": "code",
   "execution_count": 27,
   "metadata": {},
   "outputs": [
    {
     "data": {
      "text/plain": [
       "SVC(C=10, cache_size=200, class_weight=None, coef0=0.0,\n",
       "    decision_function_shape='ovr', degree=3, gamma='auto_deprecated',\n",
       "    kernel='linear', max_iter=-1, probability=False, random_state=None,\n",
       "    shrinking=True, tol=0.001, verbose=False)"
      ]
     },
     "execution_count": 27,
     "metadata": {},
     "output_type": "execute_result"
    }
   ],
   "source": [
    "svm.fit(x_train, y_train)"
   ]
  },
  {
   "cell_type": "code",
   "execution_count": 28,
   "metadata": {},
   "outputs": [
    {
     "data": {
      "text/plain": [
       "array([12, 15], dtype=int32)"
      ]
     },
     "execution_count": 28,
     "metadata": {},
     "output_type": "execute_result"
    }
   ],
   "source": [
    "# Number of Support Vectors for each class:\n",
    "svm.n_support_"
   ]
  },
  {
   "cell_type": "code",
   "execution_count": 29,
   "metadata": {},
   "outputs": [
    {
     "data": {
      "text/plain": [
       "array([[ 7.27845526e-01,  2.11844903e-01,  6.23247544e-01,\n",
       "         5.76530590e-01, -1.52224881e+00, -6.29586798e-01,\n",
       "        -6.56741948e-01, -6.66752412e-01,  1.25524439e-01,\n",
       "        -1.35347305e+00, -5.69793407e-01, -1.17742469e+00,\n",
       "        -5.40107715e-01, -3.82545466e-01, -1.45805209e+00,\n",
       "        -6.15798705e-01, -5.85676248e-01, -1.05422285e+00,\n",
       "        -1.12881340e-01, -7.92400199e-01,  6.02777939e-01,\n",
       "         1.43754721e-01,  5.96872082e-01,  3.57589104e-01,\n",
       "        -1.37945387e+00,  2.40047043e-01, -1.17484075e-01,\n",
       "        -4.14715005e-01,  2.87357357e+00, -4.27578319e-01],\n",
       "       [ 6.05719422e-01,  6.02792181e-01,  6.39723624e-01,\n",
       "         4.88932230e-01,  1.43325199e+00,  4.54058795e-01,\n",
       "         1.14376646e+00,  7.96798146e-01,  2.09496137e-01,\n",
       "         3.57575052e-01,  5.97064192e-01,  4.35708469e-01,\n",
       "         4.69985890e-02,  3.82453979e-01,  1.17305459e+00,\n",
       "         6.75249656e-01,  8.78537885e-01,  1.03591825e-02,\n",
       "         2.38254662e+00,  9.04813573e-01,  3.02508271e-01,\n",
       "        -7.60843971e-02,  1.91784680e-01,  1.66328201e-01,\n",
       "         4.48502801e-01, -2.71409290e-01,  2.98461215e-01,\n",
       "        -1.50838072e-01, -2.66538596e-01, -2.44706121e-01],\n",
       "       [-3.85490122e-01,  7.40089141e-01, -4.22159738e-01,\n",
       "        -4.22602658e-01, -4.13491229e-01, -8.85621285e-01,\n",
       "        -5.23408155e-01, -5.64350302e-01, -8.27371788e-01,\n",
       "        -3.04446043e-01, -6.08051033e-01,  2.96003989e-01,\n",
       "        -6.97527449e-01, -4.50310731e-01,  1.52679887e-01,\n",
       "        -7.52169181e-01, -2.84278910e-01, -4.66537234e-01,\n",
       "        -4.93067841e-01, -4.41004702e-01, -3.68439127e-01,\n",
       "         1.25272094e+00, -4.53376581e-01, -3.99016526e-01,\n",
       "         4.17817677e-01, -6.48640141e-01, -2.61409781e-01,\n",
       "        -3.24269016e-01, -1.16084999e-01, -1.81532089e-01],\n",
       "       [-4.75132290e-02, -5.21181241e-01, -2.22028933e-02,\n",
       "        -1.49284397e-01,  9.42210440e-01,  4.46478203e-01,\n",
       "         1.14133277e-01,  9.13327289e-02,  3.51882930e-01,\n",
       "        -2.12301779e-01,  7.15632133e-02, -7.38534901e-01,\n",
       "        -1.50023594e-01, -1.01143599e-01, -2.30002295e-01,\n",
       "         7.33193160e-02, -2.33331390e-02,  2.63406261e-01,\n",
       "         9.40794868e-03, -4.16040114e-01,  2.50176805e-02,\n",
       "        -5.87413902e-01,  2.49839844e-02, -9.59523750e-02,\n",
       "         8.25491466e-01,  4.57606826e-01,  2.33694647e-01,\n",
       "         3.47071662e-01,  2.70564567e-01, -2.42489488e-01],\n",
       "       [-6.72344461e-01, -2.67530925e-01, -6.98957883e-01,\n",
       "        -6.36479175e-01,  2.36249256e-01, -8.56625521e-01,\n",
       "        -7.77771870e-01, -3.55161105e-01, -7.03239713e-01,\n",
       "         1.02620582e-02,  8.65589418e-01,  1.61140331e+00,\n",
       "         6.29649618e-01,  1.93019259e-01, -4.81679166e-01,\n",
       "        -8.62271574e-01, -6.35743353e-01,  4.09394960e-01,\n",
       "        -5.80244364e-01, -3.92210279e-01, -6.02442385e-01,\n",
       "        -3.72460098e-01, -6.60090299e-01, -5.74807798e-01,\n",
       "        -8.18354459e-01, -1.11022312e+00, -1.01222221e+00,\n",
       "        -6.54838446e-01, -1.49281630e+00, -8.19922306e-01],\n",
       "       [-9.29555004e-02, -8.14391699e-01, -6.33930936e-02,\n",
       "        -2.01331475e-01,  3.08838007e-01,  4.48373351e-01,\n",
       "        -1.36966145e-01,  4.56773801e-02, -5.46249146e-01,\n",
       "         4.05773590e-01, -4.56464213e-01, -1.08199020e+00,\n",
       "        -4.50012144e-01, -3.73744782e-01, -7.74691046e-01,\n",
       "        -2.69842456e-01, -4.74268651e-01, -4.20145270e-01,\n",
       "        -1.01007305e+00, -2.51500780e-01,  6.22925359e-02,\n",
       "        -7.84454890e-01,  9.05128289e-02, -1.19859988e-01,\n",
       "         3.82748964e-01,  6.35725946e-01,  2.74011357e-02,\n",
       "         3.60775600e-01, -5.04352346e-01,  1.05590311e+00],\n",
       "       [-7.59146486e-02, -5.49106047e-01, -4.15622875e-02,\n",
       "        -2.16120808e-01,  4.44052346e-01,  8.97523413e-01,\n",
       "         1.28194845e-01,  1.83159306e-01,  1.07476972e+00,\n",
       "         9.01935010e-01, -5.37310517e-01, -4.14639759e-02,\n",
       "        -4.61892879e-01, -3.88265910e-01, -3.60340913e-01,\n",
       "         4.97520920e-01,  2.38607342e-01,  4.14261250e-01,\n",
       "        -1.39518611e-01,  2.89398639e-01, -1.07515139e-01,\n",
       "         2.04006924e-01, -8.52236178e-02, -2.29377950e-01,\n",
       "         5.97544831e-01,  1.16244963e+00,  9.18301255e-01,\n",
       "         7.73416389e-01,  1.17975727e+00,  1.21660899e+00],\n",
       "       [-1.95200611e-01,  5.32980167e-01, -2.38451445e-01,\n",
       "        -2.61342040e-01, -1.04899863e+00, -8.34452290e-01,\n",
       "        -7.24413243e-01, -7.37943803e-01, -1.00834052e-01,\n",
       "        -9.82060782e-01, -6.01554455e-01, -7.08235358e-01,\n",
       "        -6.40598929e-01, -4.35789603e-01, -1.25371047e+00,\n",
       "        -8.08058721e-01, -5.96618066e-01, -7.97282742e-01,\n",
       "        -8.16347446e-01, -9.48996255e-01, -7.02402833e-02,\n",
       "         7.44648312e-01, -1.41816711e-01, -1.62928849e-01,\n",
       "        -1.00684879e+00, -3.17847489e-01, -3.05546997e-01,\n",
       "        -5.18651892e-02,  1.50848802e-01, -6.91911768e-01],\n",
       "       [ 4.89273602e-01,  1.08449508e+00,  4.83200864e-01,\n",
       "         3.63507304e-01, -8.78913219e-01, -7.84777765e-02,\n",
       "         1.32840184e-01,  1.21769628e-01,  1.29175382e-01,\n",
       "        -1.33504419e+00, -6.75664414e-03, -2.51927868e-01,\n",
       "         1.82868136e-02, -8.26621631e-02,  9.09377233e-01,\n",
       "         3.23145557e-01,  6.17260544e-01,  1.31776909e+00,\n",
       "         1.12211940e+00, -2.99916952e-01,  1.18204819e-01,\n",
       "         3.22882892e-01,  1.41148754e-01, -7.17778313e-03,\n",
       "        -8.44655994e-01, -3.93548115e-01, -1.91845689e-01,\n",
       "        -4.12065711e-02, -1.48440611e-01, -1.16793364e+00],\n",
       "       [ 1.12262526e+00,  5.93483912e-01,  1.04750661e+00,\n",
       "         1.04978926e+00, -1.61191727e+00, -3.39629163e-01,\n",
       "         2.69940469e-01,  2.28556715e-01, -1.51947259e-01,\n",
       "        -1.33220898e+00,  8.33828370e-01,  1.59928197e-01,\n",
       "         7.15784944e-01,  7.92565846e-01, -5.03680058e-01,\n",
       "         1.53594856e+00,  9.68393417e-01,  4.28860120e-01,\n",
       "         1.03849181e-01,  4.69446278e-01,  7.22885807e-01,\n",
       "        -1.59134731e-01,  6.50486591e-01,  6.10728535e-01,\n",
       "        -1.93529297e+00, -3.68738666e-01, -8.96584383e-02,\n",
       "        -3.47108913e-01, -8.60264081e-01, -1.01775677e+00],\n",
       "       [ 4.05311718e-02,  7.58705678e-01,  7.41821752e-02,\n",
       "        -7.13559854e-02,  5.29450877e-01,  2.09584711e-01,\n",
       "         7.21919428e-01,  3.21672991e-01,  4.17599911e-01,\n",
       "        -4.22107179e-01, -7.30764174e-01,  1.15055996e+00,\n",
       "        -4.80704042e-01, -4.79573005e-01, -3.09338845e-01,\n",
       "         1.96653582e-02,  4.82643031e-01,  1.56347881e-01,\n",
       "        -7.30381708e-01, -1.47154397e-02, -2.02773103e-01,\n",
       "         1.39928035e+00, -8.82022016e-02, -2.67700447e-01,\n",
       "         2.46857700e-01,  1.21088916e-01,  7.25440809e-01,\n",
       "         3.28799745e-01, -3.28014259e-01, -2.41511677e-02],\n",
       "       [ 8.31333012e-02,  1.11781017e-01,  1.03427217e-01,\n",
       "        -3.52358822e-02,  8.25319013e-02,  1.84947787e-01,\n",
       "         6.37878431e-02,  2.44291044e-01,  2.46005571e-01,\n",
       "         1.56275276e-01, -4.17484744e-01,  1.15055996e+00,\n",
       "        -2.42594318e-01, -2.96738798e-01,  3.21353392e-01,\n",
       "         1.94040721e-01,  4.36440474e-02,  3.96418187e-01,\n",
       "        -7.17063073e-01,  2.48547494e-01,  1.25927287e-02,\n",
       "         8.43983025e-01,  6.66841582e-02, -9.52492100e-02,\n",
       "         4.70420746e-01,  3.07477852e-01,  2.26498362e-01,\n",
       "         6.37899672e-01, -2.95658647e-01,  5.31115323e-01],\n",
       "       [-1.44798723e+00, -4.56023362e-01, -1.36665103e+00,\n",
       "        -1.15012411e+00,  7.28714114e-01,  7.00428027e-01,\n",
       "         2.81483311e+00, -1.33332857e-01,  1.09302444e+00,\n",
       "         2.50382760e+00, -2.80695685e-01, -4.14639759e-02,\n",
       "        -4.85654348e-01, -4.98714492e-01,  8.36040927e-01,\n",
       "         3.38589232e+00,  9.01560288e+00,  3.47515764e+00,\n",
       "         2.59443400e+00,  2.18027710e+00, -1.23404410e+00,\n",
       "        -4.92964503e-01, -1.24389273e+00, -9.77194017e-01,\n",
       "         6.93983792e-01,  1.15926893e+00,  4.70066880e+00,\n",
       "         9.19591724e-01,  2.14719008e+00,  1.85943247e+00],\n",
       "       [-1.80999901e-01,  7.00529000e-01, -2.08382598e-01,\n",
       "        -2.67030245e-01, -6.29122518e-01, -5.18531128e-01,\n",
       "        -5.18386167e-01, -3.88951222e-01, -9.56046689e-03,\n",
       "        -7.96354651e-01, -6.18517743e-01,  2.47016704e-01,\n",
       "        -5.59908940e-01, -4.43050167e-01, -8.62027920e-01,\n",
       "        -6.51568010e-01, -3.62861054e-01,  7.11498916e-03,\n",
       "        -5.00332551e-01, -6.95567855e-01, -2.31764657e-01,\n",
       "         1.00031306e+00, -2.46067145e-01, -3.19558872e-01,\n",
       "        -7.08764731e-01, -5.29045875e-01, -2.11035784e-01,\n",
       "         2.06986966e-01, -4.81382136e-02, -8.18813990e-01],\n",
       "       [ 1.79698128e-01, -1.05873375e+00,  1.19491395e-01,\n",
       "         3.92796063e-02, -5.41589025e-01, -5.02990915e-01,\n",
       "        -5.36339776e-01, -3.51807888e-01, -1.06103217e+00,\n",
       "        -5.21339463e-01, -2.25113850e-01, -1.48550028e+00,\n",
       "        -1.62894390e-01, -2.48115020e-01, -7.69690843e-01,\n",
       "        -5.82264982e-01, -4.42437909e-01, -1.82670320e-01,\n",
       "         1.31697237e-01, -3.82753996e-01,  2.07250307e-01,\n",
       "        -1.26158720e+00,  2.06677599e-01,  3.81241526e-04,\n",
       "        -4.54516561e-01, -3.39476239e-01, -2.73883342e-01,\n",
       "         1.59784514e-01,  3.36893572e-01, -1.15033108e-01],\n",
       "       [-5.38857788e-01,  6.29126074e-02, -5.53144574e-01,\n",
       "        -5.51440507e-01, -3.56027323e-02, -4.44809873e-01,\n",
       "        -5.89196204e-01, -2.02460730e-01,  6.11099911e-01,\n",
       "        -3.78161454e-01, -1.86856224e-01,  1.98029419e-01,\n",
       "        -2.76256400e-01, -2.88158131e-01,  1.57680090e-01,\n",
       "        -4.29686539e-01, -5.92970793e-01, -6.42572637e-02,\n",
       "        -6.67420886e-01, -1.72824501e-01, -3.78793253e-01,\n",
       "         4.36873546e-01, -4.50100138e-01, -4.25736800e-01,\n",
       "         4.61653568e-01, -3.18483629e-01, -6.45211663e-01,\n",
       "        -1.00590301e-01, -3.76547678e-01, -1.22237165e-01],\n",
       "       [-2.23602031e-01, -7.98102229e-01, -2.25682483e-01,\n",
       "        -3.83638452e-01,  8.14112645e-01,  9.31636076e-01,\n",
       "         3.52803278e-01,  5.40405961e-01,  4.76015005e-01,\n",
       "         8.82088554e-01, -4.30116979e-01, -3.64417190e-01,\n",
       "        -6.58915062e-01, -6.02342545e-01, -8.23296415e-02,\n",
       "         5.74089589e-01,  2.62148829e-01,  3.29912224e-01,\n",
       "         9.65844712e-02,  3.05663447e-01, -1.53073295e-01,\n",
       "        -4.05028856e-01, -3.15766007e-01, -4.67047748e-01,\n",
       "         9.30697605e-01,  1.43026445e+00,  1.02480628e+00,\n",
       "         8.55640015e-01,  1.01312587e+00,  9.78320970e-01],\n",
       "       [ 2.63304620e-02,  1.99205126e+00,  2.39301309e-02,\n",
       "        -8.81361908e-02, -1.00558771e+00, -8.35730266e-03,\n",
       "         2.69940469e-01, -1.24820843e-01, -1.71455103e+00,\n",
       "        -2.13719383e-01, -2.51822004e-01,  2.00874463e+00,\n",
       "        -3.76747614e-01, -2.28313481e-01, -2.44669557e-01,\n",
       "         1.66095951e-01,  2.19044699e-01, -2.73507732e-01,\n",
       "        -1.05245053e+00, -7.78834138e-02, -1.07515139e-01,\n",
       "         2.42031093e+00, -1.41816711e-01, -2.04942963e-01,\n",
       "        -1.06383545e+00, -7.42059774e-02,  1.64130556e-01,\n",
       "        -4.93588779e-01, -1.63518099e+00, -3.31708955e-01],\n",
       "       [-3.20166857e-01,  3.46814797e-01, -3.48429279e-01,\n",
       "        -3.85344914e-01,  1.21975566e+00, -5.39188241e-01,\n",
       "        -7.21148950e-01, -5.79568752e-01,  2.65927916e+00,\n",
       "        -2.73258753e-01,  5.42390052e-02,  1.90772043e-01,\n",
       "         3.43589524e-03, -1.22265240e-01, -7.99329421e-03,\n",
       "        -7.85702905e-01, -4.11270307e-01, -4.31700072e-02,\n",
       "         1.08579585e+00, -8.55568173e-01, -4.36776361e-01,\n",
       "        -2.55212568e-01, -4.89715304e-01, -4.63883505e-01,\n",
       "        -1.16980198e-01, -9.14546543e-01, -9.16655544e-01,\n",
       "        -7.86396247e-01,  4.77640485e-01, -1.08591823e+00],\n",
       "       [ 1.05730199e+00, -1.41012088e+00,  9.32174046e-01,\n",
       "         9.59062392e-01, -1.27957466e+00, -7.99202538e-01,\n",
       "        -5.56804378e-01, -1.84147002e-01, -2.15996613e+00,\n",
       "        -1.46971658e+00,  2.82341078e-01, -3.09986873e-01,\n",
       "         1.46994772e-01,  2.33502404e-01, -8.90695749e-01,\n",
       "        -9.61531396e-01, -6.75200210e-01, -7.07094168e-01,\n",
       "        -9.10788678e-01, -9.40296474e-01,  7.35310758e-01,\n",
       "        -1.18179374e+00,  5.90914914e-01,  5.79086106e-01,\n",
       "        -1.47939970e+00, -9.82867949e-01, -8.03050187e-01,\n",
       "        -4.75012331e-01, -1.80828352e+00, -1.39846344e+00],\n",
       "       [ 4.49511614e-01, -1.24722618e+00,  4.13177523e-01,\n",
       "         3.03781149e-01, -1.23847880e-01, -1.84227032e-01,\n",
       "        -2.19075656e-01,  2.68537387e-01,  1.59961369e-02,\n",
       "        -7.89266630e-01, -3.37360282e-01, -7.28193141e-01,\n",
       "        -4.42586685e-01, -2.72756934e-01, -6.08017622e-01,\n",
       "        -5.77234923e-01, -5.01125840e-01,  1.43371108e-01,\n",
       "        -4.66430570e-01, -5.54101854e-01,  2.54879289e-01,\n",
       "        -1.04663339e+00,  2.09656183e-01,  7.42135754e-02,\n",
       "        -4.41365794e-01, -3.77644622e-01, -4.85933882e-01,\n",
       "         3.47071662e-01, -2.87569744e-01, -7.33473631e-01],\n",
       "       [ 9.73340110e-02,  1.32651006e+00,  1.58210184e-01,\n",
       "         4.29714414e-03, -5.68631893e-01,  3.53615954e-01,\n",
       "         1.51923740e-01, -2.58433672e-01,  2.20448967e-01,\n",
       "         8.68126773e-02, -5.44889858e-01, -2.50113524e-01,\n",
       "        -1.24282002e-01, -3.79025192e-01,  3.23416745e-02,\n",
       "         1.17657882e+00,  2.12081724e-01, -2.85711373e-02,\n",
       "         1.66726589e-02,  8.76066471e-01, -1.01863496e-02,\n",
       "         9.85657123e-01,  1.85827512e-01, -1.26012682e-01,\n",
       "         7.15141351e-02,  1.05557816e+00,  6.32368853e-01,\n",
       "         8.97421664e-02,  4.63080460e-01,  1.01711204e+00],\n",
       "       [-4.70694381e-01, -1.60485837e-01, -4.48109564e-01,\n",
       "        -4.91998762e-01,  2.34114293e-01,  2.76505082e-02,\n",
       "        -1.09847407e-01, -2.76231519e-01,  4.13948967e-01,\n",
       "         1.32176007e-01, -3.27429563e-02, -3.13615561e-01,\n",
       "        -1.82695614e-01, -2.21052917e-01, -2.93274925e-02,\n",
       "        -3.55912347e-01, -1.61929495e-01, -2.31333219e-01,\n",
       "        -3.29611861e-01, -7.90181678e-02, -2.69039512e-01,\n",
       "        -1.68905358e-01, -3.33935369e-01, -3.56299248e-01,\n",
       "         4.48502801e-01, -1.04740684e-01, -2.44121184e-02,\n",
       "        -1.99563184e-01,  1.83204414e-01,  1.96957944e-01],\n",
       "       [-2.12241463e-01,  2.65991952e+00, -2.31861013e-01,\n",
       "        -2.77837835e-01, -2.78276889e-01, -5.70079152e-01,\n",
       "        -7.60948209e-01, -4.19904001e-01, -1.59406990e+00,\n",
       "        -3.73908641e-01, -2.32332270e-01,  1.28300707e+00,\n",
       "        -2.86652043e-01, -2.50975242e-01, -4.00009188e-01,\n",
       "        -7.27577784e-01, -7.94366550e-01, -4.32797624e-01,\n",
       "        -5.93562999e-01, -3.06347224e-01, -2.52472910e-01,\n",
       "         2.59455378e+00, -3.14872432e-01, -3.07605065e-01,\n",
       "        -6.64928840e-01, -7.13526393e-01, -9.69860080e-01,\n",
       "        -5.63022063e-01, -1.14014013e+00, -3.98762094e-01],\n",
       "       [ 6.73882829e-01, -2.32624918e-01,  6.02652444e-01,\n",
       "         5.21070589e-01,  3.55627096e-02, -3.72604737e-01,\n",
       "        -3.78900438e-01, -1.46805385e-02, -1.15595669e+00,\n",
       "        -9.73555158e-01, -2.39189769e-01,  4.03050279e-01,\n",
       "        -2.58435298e-01, -1.48667292e-01,  7.20099495e-02,\n",
       "        -4.15155259e-01, -4.50064024e-01, -2.37821606e-01,\n",
       "        -4.36160944e-01, -6.78546545e-01,  3.85341283e-01,\n",
       "        -3.70018872e-02,  2.96035114e-01,  2.25745651e-01,\n",
       "         6.27469568e-02, -5.49402346e-01, -5.08002490e-01,\n",
       "        -3.55940339e-01, -8.19819565e-01, -1.06707685e+00],\n",
       "       [-6.35422615e-01, -4.49042160e-01, -6.49529643e-01,\n",
       "        -6.23680713e-01,  1.86024464e+00, -6.11014348e-01,\n",
       "        -3.70488607e-01,  6.47966868e-01,  7.42533873e-01,\n",
       "        -5.73790814e-01,  8.51874420e-01,  1.95249997e+00,\n",
       "         5.71731036e-01,  1.87078797e-01,  2.37977018e+00,\n",
       "        -5.91766203e-01, -6.37401204e-01,  1.18475716e+00,\n",
       "         7.55251531e-01, -2.99916952e-01, -8.01241614e-01,\n",
       "        -1.08897278e+00, -8.28082428e-01, -7.17550310e-01,\n",
       "         1.54802329e-01, -1.08515921e+00, -9.62663795e-01,\n",
       "        -3.82891416e-01, -1.10131339e+00, -1.30868982e+00],\n",
       "       [ 2.36500967e-01, -4.41324804e-02,  2.08462228e-01,\n",
       "         9.21799149e-02, -4.58325458e-01, -1.15812191e-01,\n",
       "        -3.69107561e-01, -1.88075757e-02,  2.46005571e-01,\n",
       "        -6.06395707e-01, -4.23981322e-01, -4.87792575e-01,\n",
       "        -3.44075593e-01, -3.40302183e-01, -5.69682734e-01,\n",
       "        -2.41897686e-01, -5.48208812e-01,  1.19812791e-02,\n",
       "        -6.44415971e-01, -3.70649953e-01, -3.97387372e-03,\n",
       "         8.35025185e-02,  5.47698228e-02, -1.24430561e-01,\n",
       "        -4.68427716e-02,  3.10022411e-01, -4.40357408e-01,\n",
       "         5.22177532e-01,  9.90798220e-02,  4.29019714e-02]])"
      ]
     },
     "execution_count": 29,
     "metadata": {},
     "output_type": "execute_result"
    }
   ],
   "source": [
    "# what are those support vectors?\n",
    "svm.support_vectors_"
   ]
  },
  {
   "cell_type": "markdown",
   "metadata": {},
   "source": [
    "## 8- Use your validation data to check the accuracy metrics for your model."
   ]
  },
  {
   "cell_type": "code",
   "execution_count": 30,
   "metadata": {},
   "outputs": [
    {
     "data": {
      "text/plain": [
       "array([0, 1, 1, 1, 1, 1, 1, 1, 1, 1, 1, 1, 1, 1, 1, 0, 1, 0, 0, 0, 0, 0,\n",
       "       1, 1, 0, 1, 1, 0, 1, 0, 1, 0, 1, 0, 1, 0, 1, 0, 1, 0, 0, 1, 0, 1,\n",
       "       1, 0, 1, 1, 1, 0, 0, 1, 0, 1, 1, 1, 1, 1, 1, 0, 0, 0, 1, 1, 0, 1,\n",
       "       0, 0, 0, 1, 1, 0, 1, 0, 0, 1, 1, 1, 1, 1, 0, 0, 0, 1, 0, 1, 1, 1,\n",
       "       0, 0, 1, 0, 0, 0, 1, 1, 0, 1, 1, 1, 1, 1, 1, 1, 0, 1, 0, 1, 0, 1,\n",
       "       1, 0, 0, 1, 1, 1, 1, 1, 1, 1, 0, 1, 1, 1, 0, 1, 0, 1, 1, 1, 0, 1,\n",
       "       1, 1, 1, 1, 1, 0, 0, 1, 1, 1, 0])"
      ]
     },
     "execution_count": 30,
     "metadata": {},
     "output_type": "execute_result"
    }
   ],
   "source": [
    "y_pred = svm.predict(x_test)\n",
    "y_pred"
   ]
  },
  {
   "cell_type": "code",
   "execution_count": 31,
   "metadata": {
    "scrolled": true
   },
   "outputs": [
    {
     "data": {
      "text/plain": [
       "array([0, 1, 1, 1, 1, 1, 1, 1, 1, 1, 1, 1, 1, 1, 1, 0, 1, 0, 0, 0, 0, 0,\n",
       "       1, 1, 0, 1, 1, 0, 1, 0, 1, 0, 1, 0, 1, 0, 1, 0, 1, 0, 0, 1, 0, 1,\n",
       "       1, 0, 1, 1, 1, 0, 0, 0, 0, 1, 1, 1, 1, 1, 1, 0, 0, 0, 1, 1, 0, 1,\n",
       "       0, 0, 0, 1, 1, 0, 1, 0, 0, 1, 1, 1, 1, 1, 0, 0, 0, 1, 0, 1, 1, 1,\n",
       "       0, 0, 1, 0, 1, 0, 1, 1, 0, 1, 1, 1, 1, 1, 1, 1, 0, 1, 0, 1, 0, 0,\n",
       "       1, 0, 0, 1, 1, 1, 1, 1, 1, 1, 1, 1, 0, 1, 0, 1, 1, 1, 1, 1, 0, 1,\n",
       "       1, 1, 1, 1, 1, 0, 0, 1, 1, 1, 0])"
      ]
     },
     "execution_count": 31,
     "metadata": {},
     "output_type": "execute_result"
    }
   ],
   "source": [
    "y_test"
   ]
  },
  {
   "cell_type": "code",
   "execution_count": 32,
   "metadata": {
    "scrolled": true
   },
   "outputs": [
    {
     "data": {
      "text/plain": [
       "array([[50,  3],\n",
       "       [ 3, 87]])"
      ]
     },
     "execution_count": 32,
     "metadata": {},
     "output_type": "execute_result"
    }
   ],
   "source": [
    "#confusion matrix\n",
    "from sklearn.metrics import confusion_matrix, accuracy_score, f1_score, precision_score\n",
    "\n",
    "confusion_matrix(y_test, y_pred)\n",
    "#[TN,FP]\n",
    "#[FN,TP]"
   ]
  },
  {
   "cell_type": "code",
   "execution_count": 33,
   "metadata": {
    "scrolled": true
   },
   "outputs": [
    {
     "data": {
      "text/plain": [
       "0.958041958041958"
      ]
     },
     "execution_count": 33,
     "metadata": {},
     "output_type": "execute_result"
    }
   ],
   "source": [
    "accuracy_score(y_test, y_pred)"
   ]
  },
  {
   "cell_type": "code",
   "execution_count": 34,
   "metadata": {
    "scrolled": true
   },
   "outputs": [
    {
     "data": {
      "text/plain": [
       "0.9666666666666667"
      ]
     },
     "execution_count": 34,
     "metadata": {},
     "output_type": "execute_result"
    }
   ],
   "source": [
    "f1_score(y_test, y_pred)"
   ]
  },
  {
   "cell_type": "code",
   "execution_count": 36,
   "metadata": {},
   "outputs": [
    {
     "data": {
      "text/plain": [
       "0.9666666666666667"
      ]
     },
     "execution_count": 36,
     "metadata": {},
     "output_type": "execute_result"
    }
   ],
   "source": [
    "precision_score(y_test, y_pred)"
   ]
  }
 ],
 "metadata": {
  "kernelspec": {
   "display_name": "Python 3",
   "language": "python",
   "name": "python3"
  },
  "language_info": {
   "codemirror_mode": {
    "name": "ipython",
    "version": 3
   },
   "file_extension": ".py",
   "mimetype": "text/x-python",
   "name": "python",
   "nbconvert_exporter": "python",
   "pygments_lexer": "ipython3",
   "version": "3.7.4"
  }
 },
 "nbformat": 4,
 "nbformat_minor": 4
}
